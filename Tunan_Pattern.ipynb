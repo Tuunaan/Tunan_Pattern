{
  "nbformat": 4,
  "nbformat_minor": 0,
  "metadata": {
    "colab": {
      "provenance": []
    },
    "kernelspec": {
      "name": "python3",
      "display_name": "Python 3"
    },
    "language_info": {
      "name": "python"
    }
  },
  "cells": [
    {
      "cell_type": "code",
      "source": [
        "def triangle(n):\n",
        "  i=1\n",
        "  while i<=n:\n",
        "    j=1\n",
        "    while j<=i:\n",
        "      print(j, \"\",end=\"\")\n",
        "      j+=1\n",
        "    print(\"\")\n",
        "    i+=1\n",
        "triangle(5)\n"
      ],
      "metadata": {
        "colab": {
          "base_uri": "https://localhost:8080/"
        },
        "id": "_vNbieTlZ2Wv",
        "outputId": "a1f5be8b-b0c1-4650-c11d-0207f479834c"
      },
      "execution_count": 13,
      "outputs": [
        {
          "output_type": "stream",
          "name": "stdout",
          "text": [
            "1 \n",
            "1 2 \n",
            "1 2 3 \n",
            "1 2 3 4 \n",
            "1 2 3 4 5 \n"
          ]
        }
      ]
    },
    {
      "cell_type": "code",
      "source": [
        "def triangle(n):\n",
        "  i=1\n",
        "  while i<=n:\n",
        "    j=1\n",
        "    while j<=i:\n",
        "      print(i, \"\",end=\"\")\n",
        "      j+=1\n",
        "    print(\"\")\n",
        "    i+=1\n",
        "triangle(5)\n"
      ],
      "metadata": {
        "colab": {
          "base_uri": "https://localhost:8080/"
        },
        "id": "0uut7XuqZ6YN",
        "outputId": "843bff6b-315c-4e7e-9bfe-101c5b5a85ec"
      },
      "execution_count": 14,
      "outputs": [
        {
          "output_type": "stream",
          "name": "stdout",
          "text": [
            "1 \n",
            "2 2 \n",
            "3 3 3 \n",
            "4 4 4 4 \n",
            "5 5 5 5 5 \n"
          ]
        }
      ]
    },
    {
      "cell_type": "code",
      "source": [
        "def triangle(n):\n",
        "  i=1\n",
        "  while i<=n:\n",
        "    j=i\n",
        "    while j>=1:\n",
        "      print(i, \"\",end=\"\")\n",
        "      j-=1\n",
        "    print(\"\")\n",
        "    i+=1\n",
        "triangle(5)\n"
      ],
      "metadata": {
        "colab": {
          "base_uri": "https://localhost:8080/"
        },
        "id": "Y9J0M3dQZ8kt",
        "outputId": "ca067dfa-0f6a-4112-a4b6-a0a623f58c05"
      },
      "execution_count": 15,
      "outputs": [
        {
          "output_type": "stream",
          "name": "stdout",
          "text": [
            "1 \n",
            "2 2 \n",
            "3 3 3 \n",
            "4 4 4 4 \n",
            "5 5 5 5 5 \n"
          ]
        }
      ]
    },
    {
      "cell_type": "code",
      "source": [
        "def triangle(n):\n",
        "  i=1\n",
        "  while i<=n:\n",
        "    j=i\n",
        "    while j>=1:\n",
        "      print(j, \"\",end=\"\")\n",
        "      j-=1\n",
        "    print(\"\")\n",
        "    i+=1\n",
        "triangle(5)\n",
        "\n"
      ],
      "metadata": {
        "colab": {
          "base_uri": "https://localhost:8080/"
        },
        "id": "KaybmFBwZ_HS",
        "outputId": "6589f495-539f-4d69-e517-0c686ed50c1d"
      },
      "execution_count": 16,
      "outputs": [
        {
          "output_type": "stream",
          "name": "stdout",
          "text": [
            "1 \n",
            "2 1 \n",
            "3 2 1 \n",
            "4 3 2 1 \n",
            "5 4 3 2 1 \n"
          ]
        }
      ]
    },
    {
      "cell_type": "code",
      "source": [
        "def triangle(n):\n",
        "  i=n\n",
        "  while i>=1:\n",
        "    j=i\n",
        "    while j>=1:\n",
        "      print(i, \"\",end=\"\")\n",
        "      j-=1\n",
        "    print(\"\")\n",
        "    i-=1\n",
        "triangle(5)\n"
      ],
      "metadata": {
        "colab": {
          "base_uri": "https://localhost:8080/"
        },
        "id": "c6Vaud1faBKh",
        "outputId": "ab239487-5664-4f01-ecea-d95babae3df3"
      },
      "execution_count": 17,
      "outputs": [
        {
          "output_type": "stream",
          "name": "stdout",
          "text": [
            "5 5 5 5 5 \n",
            "4 4 4 4 \n",
            "3 3 3 \n",
            "2 2 \n",
            "1 \n"
          ]
        }
      ]
    },
    {
      "cell_type": "code",
      "source": [
        "def triangle(n):\n",
        "  i=n\n",
        "  while i>=1:\n",
        "    j=i\n",
        "    while j>=1:\n",
        "      print(j, \"\",end=\"\")\n",
        "      j-=1\n",
        "    print(\"\")\n",
        "    i-=1\n",
        "triangle(5)\n"
      ],
      "metadata": {
        "colab": {
          "base_uri": "https://localhost:8080/"
        },
        "id": "5eZmiDnEaDW4",
        "outputId": "7dac523d-f87c-4c96-ec6f-f3e77536b2ef"
      },
      "execution_count": 18,
      "outputs": [
        {
          "output_type": "stream",
          "name": "stdout",
          "text": [
            "5 4 3 2 1 \n",
            "4 3 2 1 \n",
            "3 2 1 \n",
            "2 1 \n",
            "1 \n"
          ]
        }
      ]
    },
    {
      "cell_type": "code",
      "source": [
        "def triangle(n):\n",
        "  i=n\n",
        "  while i>=1:\n",
        "    j=1\n",
        "    while j<=i:\n",
        "      print(i, \"\",end=\"\")\n",
        "      j+=1\n",
        "    print(\"\")\n",
        "    i-=1\n",
        "triangle(5)\n"
      ],
      "metadata": {
        "colab": {
          "base_uri": "https://localhost:8080/"
        },
        "id": "pN7RM6gdaGCe",
        "outputId": "4927f18f-95f3-4258-f66a-5ef4fbaf9396"
      },
      "execution_count": 19,
      "outputs": [
        {
          "output_type": "stream",
          "name": "stdout",
          "text": [
            "5 5 5 5 5 \n",
            "4 4 4 4 \n",
            "3 3 3 \n",
            "2 2 \n",
            "1 \n"
          ]
        }
      ]
    },
    {
      "cell_type": "code",
      "source": [
        "def triangle(n):\n",
        "  i=n\n",
        "  while i>=1:\n",
        "    j=1\n",
        "    while j<=i:\n",
        "      print(j, \"\",end=\"\")\n",
        "      j+=1\n",
        "    print(\"\")\n",
        "    i-=1\n",
        "triangle(5)\n"
      ],
      "metadata": {
        "colab": {
          "base_uri": "https://localhost:8080/"
        },
        "id": "-ZRNpDHyaINO",
        "outputId": "3b3a1d14-dfda-4317-81b4-6ef75ad0af50"
      },
      "execution_count": 20,
      "outputs": [
        {
          "output_type": "stream",
          "name": "stdout",
          "text": [
            "1 2 3 4 5 \n",
            "1 2 3 4 \n",
            "1 2 3 \n",
            "1 2 \n",
            "1 \n"
          ]
        }
      ]
    },
    {
      "cell_type": "code",
      "source": [
        "def triangle(n):\n",
        "  k=1\n",
        "  i=1\n",
        "  while i<=n:\n",
        "    j=1\n",
        "    while j<=i:\n",
        "      print(k, \"\",end=\"\")\n",
        "      k=k+1\n",
        "      j+=1\n",
        "    print(\"\")\n",
        "    i+=1\n",
        "triangle(4)\n"
      ],
      "metadata": {
        "colab": {
          "base_uri": "https://localhost:8080/"
        },
        "id": "TdYjiu5LaKqp",
        "outputId": "86491c3f-5215-42a7-d8ba-fcf910ec9928"
      },
      "execution_count": 21,
      "outputs": [
        {
          "output_type": "stream",
          "name": "stdout",
          "text": [
            "1 \n",
            "2 3 \n",
            "4 5 6 \n",
            "7 8 9 10 \n"
          ]
        }
      ]
    },
    {
      "cell_type": "code",
      "source": [
        "def triangle(n):\n",
        "  i=1\n",
        "  while i<=n:\n",
        "    j=n\n",
        "    while j>=i:\n",
        "      print(i, \"\",end=\"\")\n",
        "      j-=1\n",
        "    print(\"\")\n",
        "    i+=1\n",
        "triangle(5)\n"
      ],
      "metadata": {
        "colab": {
          "base_uri": "https://localhost:8080/"
        },
        "id": "_YnwfozvaM1Z",
        "outputId": "bae3e713-9b1f-4eec-8fc0-6422d56d1a74"
      },
      "execution_count": 22,
      "outputs": [
        {
          "output_type": "stream",
          "name": "stdout",
          "text": [
            "1 1 1 1 1 \n",
            "2 2 2 2 \n",
            "3 3 3 \n",
            "4 4 \n",
            "5 \n"
          ]
        }
      ]
    },
    {
      "cell_type": "code",
      "source": [
        "def triangle(n):\n",
        "  i=1\n",
        "  while i<=n:\n",
        "    j=n\n",
        "    while j>=i:\n",
        "      print(j, \"\",end=\"\")\n",
        "      j-=1\n",
        "    print(\"\")\n",
        "    i+=1\n",
        "triangle(5)\n"
      ],
      "metadata": {
        "colab": {
          "base_uri": "https://localhost:8080/"
        },
        "id": "L9lZ8Fh8aPFK",
        "outputId": "f703a64a-b717-451a-bd00-780f527be76a"
      },
      "execution_count": 23,
      "outputs": [
        {
          "output_type": "stream",
          "name": "stdout",
          "text": [
            "5 4 3 2 1 \n",
            "5 4 3 2 \n",
            "5 4 3 \n",
            "5 4 \n",
            "5 \n"
          ]
        }
      ]
    },
    {
      "cell_type": "code",
      "source": [
        "def triangle(n):\n",
        "  i=n\n",
        "  while i>=1:\n",
        "    j=n\n",
        "    while j>=i:\n",
        "      print(i, \"\",end=\"\")\n",
        "      j-=1\n",
        "    print(\"\")\n",
        "    i-=1\n",
        "triangle(5)\n"
      ],
      "metadata": {
        "colab": {
          "base_uri": "https://localhost:8080/"
        },
        "id": "L8_DEF9EaRYB",
        "outputId": "b3d3aca9-d960-4ae7-bd63-d2baad88f953"
      },
      "execution_count": 24,
      "outputs": [
        {
          "output_type": "stream",
          "name": "stdout",
          "text": [
            "5 \n",
            "4 4 \n",
            "3 3 3 \n",
            "2 2 2 2 \n",
            "1 1 1 1 1 \n"
          ]
        }
      ]
    },
    {
      "cell_type": "code",
      "source": [
        "def triangle(n):\n",
        "  i=n\n",
        "  while i>=1:\n",
        "    j=n\n",
        "    while j>=i:\n",
        "      print(j, \"\",end=\"\")\n",
        "      j-=1\n",
        "    print(\"\")\n",
        "    i-=1\n",
        "triangle(5)\n"
      ],
      "metadata": {
        "colab": {
          "base_uri": "https://localhost:8080/"
        },
        "id": "MxGB7XWXaTT_",
        "outputId": "2e033494-f8db-4760-9fe4-127302996b18"
      },
      "execution_count": 25,
      "outputs": [
        {
          "output_type": "stream",
          "name": "stdout",
          "text": [
            "5 \n",
            "5 4 \n",
            "5 4 3 \n",
            "5 4 3 2 \n",
            "5 4 3 2 1 \n"
          ]
        }
      ]
    },
    {
      "cell_type": "code",
      "source": [
        "def triangle(n):\n",
        "  i=1\n",
        "  while i<=n:\n",
        "    j=i\n",
        "    while j<=n:\n",
        "      print(i, \"\",end=\"\")\n",
        "      j+=1\n",
        "    print(\"\")\n",
        "    i+=1\n",
        "triangle(5)\n"
      ],
      "metadata": {
        "colab": {
          "base_uri": "https://localhost:8080/"
        },
        "id": "JnnQ1_6WaV05",
        "outputId": "6346303c-523c-4a0f-8638-c12eec970bc4"
      },
      "execution_count": 26,
      "outputs": [
        {
          "output_type": "stream",
          "name": "stdout",
          "text": [
            "1 1 1 1 1 \n",
            "2 2 2 2 \n",
            "3 3 3 \n",
            "4 4 \n",
            "5 \n"
          ]
        }
      ]
    },
    {
      "cell_type": "code",
      "source": [
        "def triangle(n):\n",
        "  i=1\n",
        "  while i<=n:\n",
        "    j=i\n",
        "    while j<=n:\n",
        "      print(j, \"\",end=\"\")\n",
        "      j+=1\n",
        "    print(\"\")\n",
        "    i+=1\n",
        "triangle(5)\n"
      ],
      "metadata": {
        "colab": {
          "base_uri": "https://localhost:8080/"
        },
        "id": "HaE5clH0aYET",
        "outputId": "71b7e513-9537-42cf-cb62-ca33d184d515"
      },
      "execution_count": 27,
      "outputs": [
        {
          "output_type": "stream",
          "name": "stdout",
          "text": [
            "1 2 3 4 5 \n",
            "2 3 4 5 \n",
            "3 4 5 \n",
            "4 5 \n",
            "5 \n"
          ]
        }
      ]
    },
    {
      "cell_type": "code",
      "source": [
        "def triangle(n):\n",
        "  i=n\n",
        "  while i>=1:\n",
        "    j=i\n",
        "    while j<=n:\n",
        "      print(i, \"\",end=\"\")\n",
        "      j+=1\n",
        "    print(\"\")\n",
        "    i-=1\n",
        "triangle(5)\n"
      ],
      "metadata": {
        "colab": {
          "base_uri": "https://localhost:8080/"
        },
        "id": "tfo83BcmaaNc",
        "outputId": "bd05e7fe-ca44-4610-f2e2-17e929017010"
      },
      "execution_count": 28,
      "outputs": [
        {
          "output_type": "stream",
          "name": "stdout",
          "text": [
            "5 \n",
            "4 4 \n",
            "3 3 3 \n",
            "2 2 2 2 \n",
            "1 1 1 1 1 \n"
          ]
        }
      ]
    },
    {
      "cell_type": "code",
      "source": [
        "def triangle(n):\n",
        "  i=n\n",
        "  while i>=1:\n",
        "    j=i\n",
        "    while j<=n:\n",
        "      print(j, \"\",end=\"\")\n",
        "      j+=1\n",
        "    print(\"\")\n",
        "    i-=1\n",
        "triangle(5)\n"
      ],
      "metadata": {
        "id": "H3XYSuqEadHd",
        "outputId": "2746c0db-21d3-44b0-86ad-3da189d98cc9",
        "colab": {
          "base_uri": "https://localhost:8080/"
        }
      },
      "execution_count": 29,
      "outputs": [
        {
          "output_type": "stream",
          "name": "stdout",
          "text": [
            "5 \n",
            "4 5 \n",
            "3 4 5 \n",
            "2 3 4 5 \n",
            "1 2 3 4 5 \n"
          ]
        }
      ]
    }
  ]
}